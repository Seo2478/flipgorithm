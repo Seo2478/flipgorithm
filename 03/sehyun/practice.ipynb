{
 "cells": [
  {
   "cell_type": "code",
   "execution_count": 8,
   "metadata": {},
   "outputs": [
    {
     "name": "stdout",
     "output_type": "stream",
     "text": [
      "5\n"
     ]
    }
   ],
   "source": [
    "#1978번 소수 찾기\n",
    "\n",
    "n = int(input())\n",
    "\n",
    "num_list = list(map(int, input().split()))\n",
    "\n",
    "count = n\n",
    "\n",
    "for i in num_list:\n",
    "    if i == 1:\n",
    "        count -= 1   # 1이면 전체 count에서 1 차감\n",
    "    else:\n",
    "        for j in range(2, int(i**(1/2))+1): # 2 ~ 자기 자신의 제곱근까지 범위 반복\n",
    "            if i % j == 0:                  # 나누어 떨어지는 수가 있으면\n",
    "                count -= 1                  # 전체 count에서 1 차감 후\n",
    "                break                       # 반복 중단\n",
    "\n",
    "print(count)"
   ]
  },
  {
   "cell_type": "code",
   "execution_count": 16,
   "metadata": {},
   "outputs": [
    {
     "name": "stdout",
     "output_type": "stream",
     "text": [
      "440\n",
      "2\n"
     ]
    }
   ],
   "source": [
    "# 2581번 소수\n",
    "\n",
    "M = int(input())\n",
    "N = int(input())\n",
    "\n",
    "num_list = []\n",
    "\n",
    "for i in range(M, N+1):\n",
    "    if i == 1:\n",
    "        continue\n",
    "    for j in range(2, int(i**(1/2))+1):\n",
    "        if i % j == 0:\n",
    "            break\n",
    "    else:\n",
    "        num_list.append(i)  # 소수면 리스트에 넣어주기\n",
    "\n",
    "if len(num_list) == 0:\n",
    "    print(-1)               # 리스트가 비었으면 -1 출력\n",
    "else:\n",
    "    print(sum(num_list))    # 합계 출력\n",
    "    print(min(num_list))    # 최솟값 출력"
   ]
  },
  {
   "cell_type": "code",
   "execution_count": null,
   "metadata": {},
   "outputs": [],
   "source": [
    "# 5347번 LCM\n",
    "\n",
    "def gcd(a, b):\n",
    "    while a:\n",
    "        if a < b:\n",
    "            a, b = b, a\n",
    "        a = a % b\n",
    "    return b\n",
    "\n",
    "def lcm(a, b):\n",
    "    L = int((a * b) / gcd(a, b))\n",
    "    print(L)\n",
    "    \n",
    "T = int(input())\n",
    "\n",
    "for i in range(T):\n",
    "    a, b = map(int, input().split())\n",
    "    lcm(a, b)"
   ]
  },
  {
   "cell_type": "code",
   "execution_count": 39,
   "metadata": {},
   "outputs": [
    {
     "name": "stdout",
     "output_type": "stream",
     "text": [
      "9\n"
     ]
    }
   ],
   "source": [
    "# 2960번 에라토스테네스의 체\n",
    "\n",
    "N, K = map(int, input().split())\n",
    "\n",
    "num_list = [i for i in range(2, N+1)]\n",
    "\n",
    "\n",
    "while K != 0:\n",
    "    P = min(num_list)\n",
    "    i = P\n",
    "    num_list.remove(P)\n",
    "    K -= 1\n",
    "    if K == 0:   # 이 if문이 없으면 K가 0인데도 불구하고 아래 for문을 시작하게 됨\n",
    "        break\n",
    "    for i in num_list:\n",
    "        if i % P == 0:\n",
    "            num_list.remove(i)\n",
    "            K -= 1\n",
    "        if K == 0:  # 이 if문이 없으면 K가 음수로 내려가도 계속 for문이 돌아감\n",
    "            break\n",
    "\n",
    "print(i)"
   ]
  },
  {
   "cell_type": "code",
   "execution_count": 41,
   "metadata": {},
   "outputs": [
    {
     "name": "stdout",
     "output_type": "stream",
     "text": [
      "70\n",
      "3\n",
      "35\n"
     ]
    }
   ],
   "source": [
    "# 9613번 GCD 합\n",
    "\n",
    "t = int(input())\n",
    "\n",
    "def gcd(a, b):   # 최대공약수 gcd 만드는 함수\n",
    "    while a:\n",
    "        if a < b:\n",
    "            a, b = b, a\n",
    "        a = a % b\n",
    "    return b\n",
    "\n",
    "for _ in range(t):\n",
    "    sum = 0  # 테스트 케이스마다 sum 초기화\n",
    "    num_list = list(map(int, input().split())) # 테스트 케이스를 한 줄로 받아 리스트로 만들기\n",
    "    n = num_list.pop(0)  # 리스트 맨 앞 요소를 n을 따로 빼서 저장\n",
    "    for i in range(n-1): # 리스트에서 마지막 인덱스를 뺀 모든 요소에 대해 반복\n",
    "        for j in range(i+1, n):  # 리스트에서 첫번째 인덱스를 뺀 모든 요소에 대해 반복\n",
    "            sum += gcd(num_list[i], num_list[j])\n",
    "    print(sum)"
   ]
  },
  {
   "cell_type": "code",
   "execution_count": 54,
   "metadata": {},
   "outputs": [
    {
     "name": "stdout",
     "output_type": "stream",
     "text": [
      "7\n",
      "23\n",
      "101\n"
     ]
    }
   ],
   "source": [
    "# 4134번 다음 소수\n",
    "\n",
    "t = int(input())\n",
    "\n",
    "def prime(n):\n",
    "    if n == 0:\n",
    "        print(2)\n",
    "    else:\n",
    "        while True:\n",
    "            for i in range(2, int(n**(1/2))+1):\n",
    "                if n % i == 0:\n",
    "                    n += 1\n",
    "                    break\n",
    "            else:\n",
    "                print(n)\n",
    "                break\n",
    "\n",
    "for _ in range(t):\n",
    "    n = int(input())\n",
    "    prime(n)"
   ]
  },
  {
   "cell_type": "code",
   "execution_count": null,
   "metadata": {},
   "outputs": [],
   "source": []
  }
 ],
 "metadata": {
  "kernelspec": {
   "display_name": "Python 3",
   "language": "python",
   "name": "python3"
  },
  "language_info": {
   "codemirror_mode": {
    "name": "ipython",
    "version": 3
   },
   "file_extension": ".py",
   "mimetype": "text/x-python",
   "name": "python",
   "nbconvert_exporter": "python",
   "pygments_lexer": "ipython3",
   "version": "3.10.9"
  },
  "orig_nbformat": 4,
  "vscode": {
   "interpreter": {
    "hash": "aee8b7b246df8f9039afb4144a1f6fd8d2ca17a180786b69acc140d282b71a49"
   }
  }
 },
 "nbformat": 4,
 "nbformat_minor": 2
}
